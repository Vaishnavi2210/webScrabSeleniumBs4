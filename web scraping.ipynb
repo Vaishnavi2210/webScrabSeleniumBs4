{
 "cells": [
  {
   "cell_type": "code",
   "execution_count": 434,
   "metadata": {},
   "outputs": [],
   "source": [
    "import requests\n",
    "from bs4 import BeautifulSoup\n",
    "from datetime import datetime\n",
    "import json\n",
    "import re\n",
    "from datetime import datetime\n",
    "import time\n",
    "from selenium import webdriver\n",
    "import calendar \n",
    "import numpy as np"
   ]
  },
  {
   "cell_type": "markdown",
   "metadata": {},
   "source": [
    "### Use selenium to automate the select and click on each date"
   ]
  },
  {
   "cell_type": "code",
   "execution_count": 483,
   "metadata": {},
   "outputs": [],
   "source": [
    "# this requires browser specific driver: https://www.selenium.dev/downloads/\n",
    "d = webdriver.Chrome('./chromedriver_win32/chromedriver.exe')\n",
    "d.get('https://www.timeanddate.com/weather/australia/ararat/historic?month=9&year=2020')"
   ]
  },
  {
   "cell_type": "code",
   "execution_count": 487,
   "metadata": {},
   "outputs": [
    {
     "data": {
      "text/plain": [
       "selenium.webdriver.chrome.webdriver.WebDriver"
      ]
     },
     "execution_count": 487,
     "metadata": {},
     "output_type": "execute_result"
    }
   ],
   "source": [
    "type(d)"
   ]
  },
  {
   "cell_type": "code",
   "execution_count": 484,
   "metadata": {},
   "outputs": [
    {
     "name": "stdout",
     "output_type": "stream",
     "text": [
      "1 September 2020\n",
      "2 September 2020\n",
      "3 September 2020\n",
      "4 September 2020\n",
      "5 September 2020\n",
      "6 September 2020\n",
      "7 September 2020\n",
      "8 September 2020\n",
      "9 September 2020\n",
      "10 September 2020\n",
      "11 September 2020\n",
      "12 September 2020\n",
      "13 September 2020\n",
      "14 September 2020\n",
      "15 September 2020\n",
      "16 September 2020\n",
      "17 September 2020\n",
      "18 September 2020\n",
      "19 September 2020\n",
      "20 September 2020\n",
      "21 September 2020\n",
      "22 September 2020\n",
      "23 September 2020\n",
      "24 September 2020\n",
      "25 September 2020\n",
      "26 September 2020\n",
      "27 September 2020\n"
     ]
    }
   ],
   "source": [
    "'''\n",
    "Function to automate select in website for dynamic chaning tables by the specified id.\n",
    "Function will select each option, and for each option extract the table by the specified id, concat all the tables into one\n",
    "Input: instance of selenium.webdriver.chrome.webdriver.WebDriver\n",
    "Output: dataframe of all the extracted table\n",
    "'''\n",
    "def get_all_tables(d):\n",
    "    all_d = []\n",
    "    for i in d.find_element_by_id('wt-his-select').find_elements_by_tag_name('option'):\n",
    "        i.click()\n",
    "        time.sleep(3)\n",
    "        df = extract_table(d.page_source, 'wt-his') # extract table\n",
    "        df = fill_in_date(df) # fill in the blank dates rows\n",
    "        frames.append(df) \n",
    "\n",
    "    concated = pd.concat(frames)\n",
    "    return concated"
   ]
  },
  {
   "cell_type": "code",
   "execution_count": 470,
   "metadata": {},
   "outputs": [],
   "source": [
    "'''\n",
    "function to fill in the empty date rows in date column\n",
    "'''\n",
    "def fill_in_date(df):\n",
    "    df['date'][df['date'] == ''] = np.NaN\n",
    "    df = df.fillna(method='ffill')\n",
    "    return df"
   ]
  },
  {
   "cell_type": "code",
   "execution_count": 426,
   "metadata": {},
   "outputs": [],
   "source": [
    "'''\n",
    "function to split something like '12:00amSun, 27 Sep' into ['12:00am', '27 Sep']\n",
    "'''\n",
    "def split_time_date(date): \n",
    "    day_of_week = ['Mon', 'Tue', 'Wed', 'Thu', 'Fri', 'Sat', 'Sun']\n",
    "    date_split = [date, '']\n",
    "    \n",
    "    for day in day_of_week:\n",
    "        if day in date:\n",
    "            split_on = day + ', '\n",
    "            date_split = date.split(split_on)\n",
    "\n",
    "    return date_split"
   ]
  },
  {
   "cell_type": "code",
   "execution_count": 442,
   "metadata": {},
   "outputs": [],
   "source": [
    "'''\n",
    "function to take in page source, and extract the table \n",
    "'''\n",
    "def extract_table(_d, table_id):\n",
    "    soup = BeautifulSoup(_d)\n",
    "    table = soup.find('table', attrs={'id': table_id})\n",
    "\n",
    "    Data = []\n",
    "    for tr in table.find('tbody').find_all('tr'):\n",
    "        dict = {}\n",
    "        datetime = tr.find('th').text.strip()\n",
    "        split_datetime = split_time_date(datetime)\n",
    "        dict['date'] = split_datetime[1]\n",
    "        dict['time'] = split_datetime[0]\n",
    "        #dict['time'] = tr.find('th').text.strip()\n",
    "        all_td = tr.find_all('td')\n",
    "        dict['temp'] = all_td[1].text\n",
    "        dict['weather'] = all_td[2].text\n",
    "        dict['wind'] = all_td[3].text\n",
    "        dict['arrow'] = all_td[4].text\n",
    "\n",
    "        dict['humidity'] = all_td[5].text\n",
    "        dict['barometer'] = all_td[6].text\n",
    "        dict['visibility'] = all_td[7].text\n",
    "\n",
    "        Data.append(dict)\n",
    "        df = pd.DataFrame(Data)\n",
    "    \n",
    "    return df"
   ]
  },
  {
   "cell_type": "code",
   "execution_count": null,
   "metadata": {},
   "outputs": [],
   "source": []
  },
  {
   "cell_type": "markdown",
   "metadata": {},
   "source": [
    "### Extract \"script\""
   ]
  },
  {
   "cell_type": "code",
   "execution_count": null,
   "metadata": {},
   "outputs": [],
   "source": [
    "URL = 'https://www.timeanddate.com/weather/australia/ararat/historic?month=9&year=2020'\n",
    "page = requests.get(URL)\n",
    "soup = BeautifulSoup(page.content, 'html.parser')"
   ]
  },
  {
   "cell_type": "code",
   "execution_count": 114,
   "metadata": {},
   "outputs": [],
   "source": [
    "allScripts = soup.find_all(\"script\", type=\"text/javascript\")\n",
    "dataScript = (allScripts[1].text).strip('\\n')"
   ]
  },
  {
   "cell_type": "code",
   "execution_count": 120,
   "metadata": {},
   "outputs": [],
   "source": [
    "'''\n",
    "unfortunately this does not work due to changing end bit:\n",
    "    pattern = re.compile(\"var data=\\{(.*?)\\};\")\n",
    "    data = pattern.findall(dataScript)\n",
    "Function to return strip values at beginning and end\n",
    "input: month and year\n",
    "output: begin(constant) and end strip values\n",
    "'''\n",
    "def getStripValues(month, year):\n",
    "    date = {'month': month, 'year': year}\n",
    "    end = \"window.month={month};window.year={year};\".format(**date)\n",
    "    begin = \"var data=\"\n",
    "    return begin, end"
   ]
  },
  {
   "cell_type": "code",
   "execution_count": 121,
   "metadata": {},
   "outputs": [],
   "source": [
    "begin, end = getStripValues(9, 2020)"
   ]
  },
  {
   "cell_type": "code",
   "execution_count": 141,
   "metadata": {},
   "outputs": [],
   "source": [
    "dataString = dataScript.strip(begin).strip(end)\n",
    "dataJson = json.loads(dataString)\n",
    "data = dataJson['detail']"
   ]
  },
  {
   "cell_type": "code",
   "execution_count": 152,
   "metadata": {},
   "outputs": [
    {
     "data": {
      "text/plain": [
       "datetime.datetime(2020, 9, 1, 10, 0)"
      ]
     },
     "execution_count": 152,
     "metadata": {},
     "output_type": "execute_result"
    }
   ],
   "source": [
    "# javascript datetime stamp can be convereted using below\n",
    "datetime.fromtimestamp(1598918400000 / 1000.0)"
   ]
  },
  {
   "cell_type": "code",
   "execution_count": null,
   "metadata": {},
   "outputs": [],
   "source": []
  },
  {
   "cell_type": "code",
   "execution_count": 331,
   "metadata": {},
   "outputs": [
    {
     "data": {
      "text/plain": [
       "{'amFri, 4 Sep',\n",
       " 'amMon, 7 Sep',\n",
       " 'amSat, 5 Sep',\n",
       " 'amSun, 6 Sep',\n",
       " 'amThu, 3 Sep',\n",
       " 'amTue, 1 Sep',\n",
       " 'amTue, 8 Sep',\n",
       " 'amWed, 2 Sep',\n",
       " 'amWed, 9 Sep',\n",
       " 'mFri, 11 Sep',\n",
       " 'mFri, 18 Sep',\n",
       " 'mFri, 25 Sep',\n",
       " 'mMon, 14 Sep',\n",
       " 'mMon, 21 Sep',\n",
       " 'mSat, 12 Sep',\n",
       " 'mSat, 19 Sep',\n",
       " 'mSat, 26 Sep',\n",
       " 'mSun, 13 Sep',\n",
       " 'mSun, 20 Sep',\n",
       " 'mSun, 27 Sep',\n",
       " 'mThu, 10 Sep',\n",
       " 'mThu, 17 Sep',\n",
       " 'mThu, 24 Sep',\n",
       " 'mTue, 15 Sep',\n",
       " 'mTue, 22 Sep',\n",
       " 'mWed, 16 Sep',\n",
       " 'mWed, 23 Sep'}"
      ]
     },
     "execution_count": 331,
     "metadata": {},
     "output_type": "execute_result"
    }
   ],
   "source": [
    "set(dates)"
   ]
  },
  {
   "cell_type": "code",
   "execution_count": 334,
   "metadata": {},
   "outputs": [
    {
     "data": {
      "text/plain": [
       "(10, 26, 27)"
      ]
     },
     "execution_count": 334,
     "metadata": {},
     "output_type": "execute_result"
    }
   ],
   "source": [
    "len(Data), len(allData), len(set(dates))"
   ]
  },
  {
   "cell_type": "code",
   "execution_count": 227,
   "metadata": {},
   "outputs": [
    {
     "data": {
      "text/plain": [
       "[{'time': '12:00 amTue, 1 Sep',\n",
       "  'temp': '2\\xa0°C',\n",
       "  'weather': 'Chilly.',\n",
       "  'wind': 'No wind',\n",
       "  'humidity': '83%',\n",
       "  'barometer': 'N/A',\n",
       "  'visibility': 'N/A'},\n",
       " {'time': '1:00 am',\n",
       "  'temp': '2\\xa0°C',\n",
       "  'weather': 'Chilly.',\n",
       "  'wind': '4 km/h',\n",
       "  'humidity': '85%',\n",
       "  'barometer': 'N/A',\n",
       "  'visibility': 'N/A'},\n",
       " {'time': '2:00 am',\n",
       "  'temp': '1\\xa0°C',\n",
       "  'weather': 'Chilly.',\n",
       "  'wind': '9 km/h',\n",
       "  'humidity': '90%',\n",
       "  'barometer': 'N/A',\n",
       "  'visibility': 'N/A'},\n",
       " {'time': '3:00 am',\n",
       "  'temp': '1\\xa0°C',\n",
       "  'weather': 'Chilly.',\n",
       "  'wind': '13 km/h',\n",
       "  'humidity': '92%',\n",
       "  'barometer': 'N/A',\n",
       "  'visibility': 'N/A'},\n",
       " {'time': '4:00 am',\n",
       "  'temp': '1\\xa0°C',\n",
       "  'weather': 'Chilly.',\n",
       "  'wind': '13 km/h',\n",
       "  'humidity': '92%',\n",
       "  'barometer': 'N/A',\n",
       "  'visibility': 'N/A'},\n",
       " {'time': '5:00 am',\n",
       "  'temp': '1\\xa0°C',\n",
       "  'weather': 'Chilly.',\n",
       "  'wind': '15 km/h',\n",
       "  'humidity': '90%',\n",
       "  'barometer': 'N/A',\n",
       "  'visibility': 'N/A'},\n",
       " {'time': '6:00 am',\n",
       "  'temp': '1\\xa0°C',\n",
       "  'weather': 'Chilly.',\n",
       "  'wind': '15 km/h',\n",
       "  'humidity': '91%',\n",
       "  'barometer': 'N/A',\n",
       "  'visibility': 'N/A'},\n",
       " {'time': '7:00 am',\n",
       "  'temp': '2\\xa0°C',\n",
       "  'weather': 'Chilly.',\n",
       "  'wind': '17 km/h',\n",
       "  'humidity': '93%',\n",
       "  'barometer': 'N/A',\n",
       "  'visibility': 'N/A'},\n",
       " {'time': '8:00 am',\n",
       "  'temp': '3\\xa0°C',\n",
       "  'weather': 'Chilly.',\n",
       "  'wind': '17 km/h',\n",
       "  'humidity': '85%',\n",
       "  'barometer': 'N/A',\n",
       "  'visibility': 'N/A'},\n",
       " {'time': '9:00 am',\n",
       "  'temp': '4\\xa0°C',\n",
       "  'weather': 'Chilly.',\n",
       "  'wind': '19 km/h',\n",
       "  'humidity': '80%',\n",
       "  'barometer': 'N/A',\n",
       "  'visibility': 'N/A'},\n",
       " {'time': '10:00 am',\n",
       "  'temp': '5\\xa0°C',\n",
       "  'weather': 'Quite cool.',\n",
       "  'wind': '19 km/h',\n",
       "  'humidity': '77%',\n",
       "  'barometer': 'N/A',\n",
       "  'visibility': 'N/A'},\n",
       " {'time': '11:00 am',\n",
       "  'temp': '7\\xa0°C',\n",
       "  'weather': 'Quite cool.',\n",
       "  'wind': '13 km/h',\n",
       "  'humidity': '70%',\n",
       "  'barometer': 'N/A',\n",
       "  'visibility': 'N/A'},\n",
       " {'time': '12:00 pm',\n",
       "  'temp': '9\\xa0°C',\n",
       "  'weather': 'Cool.',\n",
       "  'wind': '15 km/h',\n",
       "  'humidity': '67%',\n",
       "  'barometer': 'N/A',\n",
       "  'visibility': 'N/A'},\n",
       " {'time': '1:00 pm',\n",
       "  'temp': '9\\xa0°C',\n",
       "  'weather': 'Cool.',\n",
       "  'wind': '17 km/h',\n",
       "  'humidity': '64%',\n",
       "  'barometer': 'N/A',\n",
       "  'visibility': 'N/A'},\n",
       " {'time': '2:00 pm',\n",
       "  'temp': '10\\xa0°C',\n",
       "  'weather': 'Cool.',\n",
       "  'wind': '19 km/h',\n",
       "  'humidity': '67%',\n",
       "  'barometer': 'N/A',\n",
       "  'visibility': 'N/A'},\n",
       " {'time': '3:00 pm',\n",
       "  'temp': '9\\xa0°C',\n",
       "  'weather': 'Cool.',\n",
       "  'wind': '19 km/h',\n",
       "  'humidity': '67%',\n",
       "  'barometer': 'N/A',\n",
       "  'visibility': 'N/A'},\n",
       " {'time': '4:00 pm',\n",
       "  'temp': '9\\xa0°C',\n",
       "  'weather': 'Cool.',\n",
       "  'wind': '20 km/h',\n",
       "  'humidity': '72%',\n",
       "  'barometer': 'N/A',\n",
       "  'visibility': 'N/A'},\n",
       " {'time': '5:00 pm',\n",
       "  'temp': '7\\xa0°C',\n",
       "  'weather': 'Quite cool.',\n",
       "  'wind': '24 km/h',\n",
       "  'humidity': '78%',\n",
       "  'barometer': 'N/A',\n",
       "  'visibility': 'N/A'},\n",
       " {'time': '6:00 pm',\n",
       "  'temp': '6\\xa0°C',\n",
       "  'weather': 'Quite cool.',\n",
       "  'wind': '33 km/h',\n",
       "  'humidity': '79%',\n",
       "  'barometer': 'N/A',\n",
       "  'visibility': 'N/A'},\n",
       " {'time': '7:00 pm',\n",
       "  'temp': '6\\xa0°C',\n",
       "  'weather': 'Quite cool.',\n",
       "  'wind': '35 km/h',\n",
       "  'humidity': '77%',\n",
       "  'barometer': 'N/A',\n",
       "  'visibility': 'N/A'},\n",
       " {'time': '8:00 pm',\n",
       "  'temp': '6\\xa0°C',\n",
       "  'weather': 'Quite cool.',\n",
       "  'wind': '37 km/h',\n",
       "  'humidity': '73%',\n",
       "  'barometer': 'N/A',\n",
       "  'visibility': 'N/A'},\n",
       " {'time': '9:00 pm',\n",
       "  'temp': '6\\xa0°C',\n",
       "  'weather': 'Quite cool.',\n",
       "  'wind': '37 km/h',\n",
       "  'humidity': '72%',\n",
       "  'barometer': 'N/A',\n",
       "  'visibility': 'N/A'},\n",
       " {'time': '10:00 pm',\n",
       "  'temp': '6\\xa0°C',\n",
       "  'weather': 'Quite cool.',\n",
       "  'wind': '37 km/h',\n",
       "  'humidity': '72%',\n",
       "  'barometer': 'N/A',\n",
       "  'visibility': 'N/A'},\n",
       " {'time': '11:00 pm',\n",
       "  'temp': '6\\xa0°C',\n",
       "  'weather': 'Quite cool.',\n",
       "  'wind': '43 km/h',\n",
       "  'humidity': '70%',\n",
       "  'barometer': 'N/A',\n",
       "  'visibility': 'N/A'}]"
      ]
     },
     "execution_count": 227,
     "metadata": {},
     "output_type": "execute_result"
    }
   ],
   "source": [
    "allData[0]"
   ]
  },
  {
   "cell_type": "code",
   "execution_count": 228,
   "metadata": {},
   "outputs": [
    {
     "data": {
      "text/plain": [
       "[{'time': '12:00 amTue, 1 Sep',\n",
       "  'temp': '2\\xa0°C',\n",
       "  'weather': 'Chilly.',\n",
       "  'wind': 'No wind',\n",
       "  'humidity': '83%',\n",
       "  'barometer': 'N/A',\n",
       "  'visibility': 'N/A'},\n",
       " {'time': '1:00 am',\n",
       "  'temp': '2\\xa0°C',\n",
       "  'weather': 'Chilly.',\n",
       "  'wind': '4 km/h',\n",
       "  'humidity': '85%',\n",
       "  'barometer': 'N/A',\n",
       "  'visibility': 'N/A'},\n",
       " {'time': '2:00 am',\n",
       "  'temp': '1\\xa0°C',\n",
       "  'weather': 'Chilly.',\n",
       "  'wind': '9 km/h',\n",
       "  'humidity': '90%',\n",
       "  'barometer': 'N/A',\n",
       "  'visibility': 'N/A'},\n",
       " {'time': '3:00 am',\n",
       "  'temp': '1\\xa0°C',\n",
       "  'weather': 'Chilly.',\n",
       "  'wind': '13 km/h',\n",
       "  'humidity': '92%',\n",
       "  'barometer': 'N/A',\n",
       "  'visibility': 'N/A'},\n",
       " {'time': '4:00 am',\n",
       "  'temp': '1\\xa0°C',\n",
       "  'weather': 'Chilly.',\n",
       "  'wind': '13 km/h',\n",
       "  'humidity': '92%',\n",
       "  'barometer': 'N/A',\n",
       "  'visibility': 'N/A'},\n",
       " {'time': '5:00 am',\n",
       "  'temp': '1\\xa0°C',\n",
       "  'weather': 'Chilly.',\n",
       "  'wind': '15 km/h',\n",
       "  'humidity': '90%',\n",
       "  'barometer': 'N/A',\n",
       "  'visibility': 'N/A'},\n",
       " {'time': '6:00 am',\n",
       "  'temp': '1\\xa0°C',\n",
       "  'weather': 'Chilly.',\n",
       "  'wind': '15 km/h',\n",
       "  'humidity': '91%',\n",
       "  'barometer': 'N/A',\n",
       "  'visibility': 'N/A'},\n",
       " {'time': '7:00 am',\n",
       "  'temp': '2\\xa0°C',\n",
       "  'weather': 'Chilly.',\n",
       "  'wind': '17 km/h',\n",
       "  'humidity': '93%',\n",
       "  'barometer': 'N/A',\n",
       "  'visibility': 'N/A'},\n",
       " {'time': '8:00 am',\n",
       "  'temp': '3\\xa0°C',\n",
       "  'weather': 'Chilly.',\n",
       "  'wind': '17 km/h',\n",
       "  'humidity': '85%',\n",
       "  'barometer': 'N/A',\n",
       "  'visibility': 'N/A'},\n",
       " {'time': '9:00 am',\n",
       "  'temp': '4\\xa0°C',\n",
       "  'weather': 'Chilly.',\n",
       "  'wind': '19 km/h',\n",
       "  'humidity': '80%',\n",
       "  'barometer': 'N/A',\n",
       "  'visibility': 'N/A'},\n",
       " {'time': '10:00 am',\n",
       "  'temp': '5\\xa0°C',\n",
       "  'weather': 'Quite cool.',\n",
       "  'wind': '19 km/h',\n",
       "  'humidity': '77%',\n",
       "  'barometer': 'N/A',\n",
       "  'visibility': 'N/A'},\n",
       " {'time': '11:00 am',\n",
       "  'temp': '7\\xa0°C',\n",
       "  'weather': 'Quite cool.',\n",
       "  'wind': '13 km/h',\n",
       "  'humidity': '70%',\n",
       "  'barometer': 'N/A',\n",
       "  'visibility': 'N/A'},\n",
       " {'time': '12:00 pm',\n",
       "  'temp': '9\\xa0°C',\n",
       "  'weather': 'Cool.',\n",
       "  'wind': '15 km/h',\n",
       "  'humidity': '67%',\n",
       "  'barometer': 'N/A',\n",
       "  'visibility': 'N/A'},\n",
       " {'time': '1:00 pm',\n",
       "  'temp': '9\\xa0°C',\n",
       "  'weather': 'Cool.',\n",
       "  'wind': '17 km/h',\n",
       "  'humidity': '64%',\n",
       "  'barometer': 'N/A',\n",
       "  'visibility': 'N/A'},\n",
       " {'time': '2:00 pm',\n",
       "  'temp': '10\\xa0°C',\n",
       "  'weather': 'Cool.',\n",
       "  'wind': '19 km/h',\n",
       "  'humidity': '67%',\n",
       "  'barometer': 'N/A',\n",
       "  'visibility': 'N/A'},\n",
       " {'time': '3:00 pm',\n",
       "  'temp': '9\\xa0°C',\n",
       "  'weather': 'Cool.',\n",
       "  'wind': '19 km/h',\n",
       "  'humidity': '67%',\n",
       "  'barometer': 'N/A',\n",
       "  'visibility': 'N/A'},\n",
       " {'time': '4:00 pm',\n",
       "  'temp': '9\\xa0°C',\n",
       "  'weather': 'Cool.',\n",
       "  'wind': '20 km/h',\n",
       "  'humidity': '72%',\n",
       "  'barometer': 'N/A',\n",
       "  'visibility': 'N/A'},\n",
       " {'time': '5:00 pm',\n",
       "  'temp': '7\\xa0°C',\n",
       "  'weather': 'Quite cool.',\n",
       "  'wind': '24 km/h',\n",
       "  'humidity': '78%',\n",
       "  'barometer': 'N/A',\n",
       "  'visibility': 'N/A'},\n",
       " {'time': '6:00 pm',\n",
       "  'temp': '6\\xa0°C',\n",
       "  'weather': 'Quite cool.',\n",
       "  'wind': '33 km/h',\n",
       "  'humidity': '79%',\n",
       "  'barometer': 'N/A',\n",
       "  'visibility': 'N/A'},\n",
       " {'time': '7:00 pm',\n",
       "  'temp': '6\\xa0°C',\n",
       "  'weather': 'Quite cool.',\n",
       "  'wind': '35 km/h',\n",
       "  'humidity': '77%',\n",
       "  'barometer': 'N/A',\n",
       "  'visibility': 'N/A'},\n",
       " {'time': '8:00 pm',\n",
       "  'temp': '6\\xa0°C',\n",
       "  'weather': 'Quite cool.',\n",
       "  'wind': '37 km/h',\n",
       "  'humidity': '73%',\n",
       "  'barometer': 'N/A',\n",
       "  'visibility': 'N/A'},\n",
       " {'time': '9:00 pm',\n",
       "  'temp': '6\\xa0°C',\n",
       "  'weather': 'Quite cool.',\n",
       "  'wind': '37 km/h',\n",
       "  'humidity': '72%',\n",
       "  'barometer': 'N/A',\n",
       "  'visibility': 'N/A'},\n",
       " {'time': '10:00 pm',\n",
       "  'temp': '6\\xa0°C',\n",
       "  'weather': 'Quite cool.',\n",
       "  'wind': '37 km/h',\n",
       "  'humidity': '72%',\n",
       "  'barometer': 'N/A',\n",
       "  'visibility': 'N/A'},\n",
       " {'time': '11:00 pm',\n",
       "  'temp': '6\\xa0°C',\n",
       "  'weather': 'Quite cool.',\n",
       "  'wind': '43 km/h',\n",
       "  'humidity': '70%',\n",
       "  'barometer': 'N/A',\n",
       "  'visibility': 'N/A'}]"
      ]
     },
     "execution_count": 228,
     "metadata": {},
     "output_type": "execute_result"
    }
   ],
   "source": [
    "allData[1]"
   ]
  },
  {
   "cell_type": "code",
   "execution_count": 206,
   "metadata": {},
   "outputs": [
    {
     "data": {
      "text/plain": [
       "'12:58 amWed, 24 Feb'"
      ]
     },
     "execution_count": 206,
     "metadata": {},
     "output_type": "execute_result"
    }
   ],
   "source": [
    "Data[0]['time']"
   ]
  },
  {
   "cell_type": "code",
   "execution_count": 317,
   "metadata": {},
   "outputs": [
    {
     "name": "stdout",
     "output_type": "stream",
     "text": [
      "Page is ready!\n",
      "Loading took too much time!\n"
     ]
    }
   ],
   "source": [
    "# wait \n",
    "from selenium import webdriver\n",
    "from selenium.webdriver.support.ui import WebDriverWait\n",
    "from selenium.webdriver.support import expected_conditions as EC\n",
    "from selenium.webdriver.common.by import By\n",
    "from selenium.common.exceptions import TimeoutException\n",
    "from selenium.webdriver.support.ui import WebDriverWait as wait\n",
    "\n",
    "browser = webdriver.Chrome('./chromedriver_win32/chromedriver.exe')\n",
    "browser.get('https://www.timeanddate.com/weather/australia/ararat/historic?month=9&year=2020')\n",
    "\n",
    "#for i in d.find_element_by_id('wt-his-select').find_elements_by_tag_name('option'):\n",
    "#browser = webdriver.Firefox()\n",
    "#browser.get(\"url\")\n",
    "delay = 3 # seconds\n",
    "try:\n",
    "    select  = WebDriverWait(browser, delay).until(EC.presence_of_element_located((By.ID, 'wt-his-select')))\n",
    "    print(\"Page is ready!\")\n",
    "    select.click()\n",
    "    selected_option = wait(browser, 10).until(EC.presence_of_element_located((By.XPATH, \"//option[@selected='selected']\")))\n",
    "except TimeoutException:\n",
    "    print(\"Loading took too much time!\")"
   ]
  },
  {
   "cell_type": "code",
   "execution_count": 320,
   "metadata": {},
   "outputs": [],
   "source": [
    "select.click()"
   ]
  },
  {
   "cell_type": "code",
   "execution_count": 195,
   "metadata": {},
   "outputs": [
    {
     "data": {
      "text/plain": [
       "<table class=\"zebra tb-wt fw va-m tb-hover sticky-en\" id=\"wt-his\"><thead style=\"width: 711px; top: 1px;\"><tr class=\"bg-wt\"><th style=\"width: 87px;\"> </th><th class=\"sep\" colspan=\"3\" style=\"width: 269px;\">Conditions</th><th class=\"sep\" colspan=\"3\" style=\"width: 181px;\">Comfort</th><th class=\"sep\" style=\"width: 94px;\"> </th><th style=\"width: 80px;\"> </th></tr><tr><th style=\"width: 87px;\">Time</th><th class=\"sep\" style=\"width: 52px;\"> </th><th style=\"width: 56px;\">Temp</th><th style=\"width: 161px;\">Weather</th><th class=\"sep\" style=\"width: 65px;\">Wind</th><th style=\"width: 34px;\"> </th><th style=\"width: 82px;\">Humidity</th><th class=\"sep\" style=\"width: 94px;\">Barometer</th><th style=\"width: 80px;\">Visibility</th></tr></thead><tbody style=\"width: 711px; border-top: 53px solid transparent;\"><tr class=\"\"><th class=\"\" colspan=\"1\" style=\"width: 87px;\">12:58 am<br/><span class=\"smaller soft\">Wed, 24 Feb</span></th><td class=\"wt-ic\" colspan=\"1\" style=\"width: 52px;\"><img class=\"mtt\" height=\"40\" src=\"//c.tadst.com/gfx/w/svg/wt-34.svg\" title=\"Light rain. Passing clouds.\" width=\"40\"/></td><td class=\"\" colspan=\"1\" style=\"width: 56px;\">5 °C</td><td class=\"small\" colspan=\"1\" style=\"width: 161px;\">Light rain. Passing clouds.</td><td class=\"sep\" colspan=\"1\" style=\"width: 65px;\">20 km/h</td><td class=\"\" colspan=\"1\" style=\"width: 34px;\"><span class=\"comp sa20\" title=\"Wind blowing from 40° Northeast to Southwest\">↑</span></td><td class=\"\" colspan=\"1\" style=\"width: 82px;\">78%</td><td class=\"sep\" colspan=\"1\" style=\"width: 94px;\">1007 mbar</td><td class=\"\" colspan=\"1\" style=\"width: 80px;\">16 km</td></tr><tr class=\"\"><th class=\"\" colspan=\"1\">1:58 am</th><td class=\"wt-ic\" colspan=\"1\"><img class=\"mtt\" height=\"40\" src=\"//c.tadst.com/gfx/w/svg/wt-20.svg\" title=\"Heavy rain. Fog.\" width=\"40\"/></td><td class=\"\" colspan=\"1\">4 °C</td><td class=\"small\" colspan=\"1\">Heavy rain. Fog.</td><td class=\"sep\" colspan=\"1\">24 km/h</td><td class=\"\" colspan=\"1\"><span class=\"comp sa20\" title=\"Wind blowing from 40° Northeast to Southwest\">↑</span></td><td class=\"\" colspan=\"1\">93%</td><td class=\"sep\" colspan=\"1\">1006 mbar</td><td class=\"\" colspan=\"1\">8 km</td></tr><tr class=\"\"><th class=\"\" colspan=\"1\">2:58 am</th><td class=\"wt-ic\" colspan=\"1\"><img class=\"mtt\" height=\"40\" src=\"//c.tadst.com/gfx/w/svg/wt-19.svg\" title=\"Rain. Fog.\" width=\"40\"/></td><td class=\"\" colspan=\"1\">4 °C</td><td class=\"small\" colspan=\"1\">Rain. Fog.</td><td class=\"sep\" colspan=\"1\">28 km/h</td><td class=\"\" colspan=\"1\"><span class=\"comp sa20\" title=\"Wind blowing from 40° Northeast to Southwest\">↑</span></td><td class=\"\" colspan=\"1\">97%</td><td class=\"sep\" colspan=\"1\">1004 mbar</td><td class=\"\" colspan=\"1\">6 km</td></tr><tr class=\"\"><th class=\"\" colspan=\"1\">3:58 am</th><td class=\"wt-ic\" colspan=\"1\"><img class=\"mtt\" height=\"40\" src=\"//c.tadst.com/gfx/w/svg/wt-34.svg\" title=\"Light rain. Low clouds.\" width=\"40\"/></td><td class=\"\" colspan=\"1\">4 °C</td><td class=\"small\" colspan=\"1\">Light rain. Low clouds.</td><td class=\"sep\" colspan=\"1\">26 km/h</td><td class=\"\" colspan=\"1\"><span class=\"comp sa20\" title=\"Wind blowing from 40° Northeast to Southwest\">↑</span></td><td class=\"\" colspan=\"1\">100%</td><td class=\"sep\" colspan=\"1\">1000 mbar</td><td class=\"\" colspan=\"1\">11 km</td></tr><tr class=\"\"><th class=\"\" colspan=\"1\">4:58 am</th><td class=\"wt-ic\" colspan=\"1\"><img class=\"mtt\" height=\"40\" src=\"//c.tadst.com/gfx/w/svg/wt-20.svg\" title=\"Heavy rain. Fog.\" width=\"40\"/></td><td class=\"\" colspan=\"1\">4 °C</td><td class=\"small\" colspan=\"1\">Heavy rain. Fog.</td><td class=\"sep\" colspan=\"1\">30 km/h</td><td class=\"\" colspan=\"1\"><span class=\"comp sa20\" title=\"Wind blowing from 50° Northeast to Southwest\">↑</span></td><td class=\"\" colspan=\"1\">99%</td><td class=\"sep\" colspan=\"1\">999 mbar</td><td class=\"\" colspan=\"1\">4 km</td></tr><tr class=\"\"><th class=\"\" colspan=\"1\">5:58 am</th><td class=\"wt-ic\" colspan=\"1\"><img class=\"mtt\" height=\"40\" src=\"//c.tadst.com/gfx/w/svg/wt-34.svg\" title=\"Light rain. Fog.\" width=\"40\"/></td><td class=\"\" colspan=\"1\">4 °C</td><td class=\"small\" colspan=\"1\">Light rain. Fog.</td><td class=\"sep\" colspan=\"1\">30 km/h</td><td class=\"\" colspan=\"1\"><span class=\"comp sa22\" title=\"Wind blowing from 60° East-northeast to West-southwest\">↑</span></td><td class=\"\" colspan=\"1\">100%</td><td class=\"sep\" colspan=\"1\">997 mbar</td><td class=\"\" colspan=\"1\">10 km</td></tr><tr class=\"\"><th class=\"\" colspan=\"1\">6:58 am</th><td class=\"wt-ic\" colspan=\"1\"><img class=\"mtt\" height=\"40\" src=\"//c.tadst.com/gfx/w/svg/wt-19.svg\" title=\"Rain. Mostly cloudy.\" width=\"40\"/></td><td class=\"\" colspan=\"1\">5 °C</td><td class=\"small\" colspan=\"1\">Rain. Mostly cloudy.</td><td class=\"sep\" colspan=\"1\">15 km/h</td><td class=\"\" colspan=\"1\"><span class=\"comp sa22\" title=\"Wind blowing from 60° East-northeast to West-southwest\">↑</span></td><td class=\"\" colspan=\"1\">100%</td><td class=\"sep\" colspan=\"1\">995 mbar</td><td class=\"\" colspan=\"1\">14 km</td></tr><tr class=\"\"><th class=\"\" colspan=\"1\">7:58 am</th><td class=\"wt-ic\" colspan=\"1\"><img class=\"mtt\" height=\"40\" src=\"//c.tadst.com/gfx/w/svg/wt-19.svg\" title=\"Rain. Fog.\" width=\"40\"/></td><td class=\"\" colspan=\"1\">5 °C</td><td class=\"small\" colspan=\"1\">Rain. Fog.</td><td class=\"sep\" colspan=\"1\">24 km/h</td><td class=\"\" colspan=\"1\"><span class=\"comp sa18\" title=\"Wind blowing from 30° North-northeast to South-southwest\">↑</span></td><td class=\"\" colspan=\"1\">99%</td><td class=\"sep\" colspan=\"1\">994 mbar</td><td class=\"\" colspan=\"1\">5 km</td></tr><tr class=\"\"><th class=\"\" colspan=\"1\">8:58 am</th><td class=\"wt-ic\" colspan=\"1\"><img class=\"mtt\" height=\"40\" src=\"//c.tadst.com/gfx/w/svg/wt-18.svg\" title=\"Light rain. Fog.\" width=\"40\"/></td><td class=\"\" colspan=\"1\">6 °C</td><td class=\"small\" colspan=\"1\">Light rain. Fog.</td><td class=\"sep\" colspan=\"1\">19 km/h</td><td class=\"\" colspan=\"1\"><span class=\"comp sa20\" title=\"Wind blowing from 50° Northeast to Southwest\">↑</span></td><td class=\"\" colspan=\"1\">100%</td><td class=\"sep\" colspan=\"1\">993 mbar</td><td class=\"\" colspan=\"1\">10 km</td></tr><tr class=\"\"><th class=\"\" colspan=\"1\">9:58 am</th><td class=\"wt-ic\" colspan=\"1\"><img class=\"mtt\" height=\"40\" src=\"//c.tadst.com/gfx/w/svg/wt-18.svg\" title=\"Light rain. Low clouds.\" width=\"40\"/></td><td class=\"\" colspan=\"1\">7 °C</td><td class=\"small\" colspan=\"1\">Light rain. Low clouds.</td><td class=\"sep\" colspan=\"1\">15 km/h</td><td class=\"\" colspan=\"1\"><span class=\"comp sa20\" title=\"Wind blowing from 50° Northeast to Southwest\">↑</span></td><td class=\"\" colspan=\"1\">100%</td><td class=\"sep\" colspan=\"1\">991 mbar</td><td class=\"\" colspan=\"1\">11 km</td></tr><tr class=\"\"><th class=\"\" colspan=\"1\">10:58 am</th><td class=\"wt-ic\" colspan=\"1\"><img class=\"mtt\" height=\"40\" src=\"//c.tadst.com/gfx/w/svg/wt-18.svg\" title=\"Light rain. Low clouds.\" width=\"40\"/></td><td class=\"\" colspan=\"1\">8 °C</td><td class=\"small\" colspan=\"1\">Light rain. Low clouds.</td><td class=\"sep\" colspan=\"1\">17 km/h</td><td class=\"\" colspan=\"1\"><span class=\"comp sa20\" title=\"Wind blowing from 50° Northeast to Southwest\">↑</span></td><td class=\"\" colspan=\"1\">100%</td><td class=\"sep\" colspan=\"1\">990 mbar</td><td class=\"\" colspan=\"1\">16 km</td></tr><tr class=\"\"><th class=\"\" colspan=\"1\">11:48 am</th><td class=\"wt-ic\" colspan=\"1\"><img class=\"mtt\" height=\"40\" src=\"//c.tadst.com/gfx/w/svg/wt-7.svg\" title=\"Low clouds.\" width=\"40\"/></td><td class=\"\" colspan=\"1\">10 °C</td><td class=\"small\" colspan=\"1\">Low clouds.</td><td class=\"sep\" colspan=\"1\">15 km/h</td><td class=\"\" colspan=\"1\"><span class=\"comp sa20\" title=\"Wind blowing from 50° Northeast to Southwest\">↑</span></td><td class=\"\" colspan=\"1\">100%</td><td class=\"sep\" colspan=\"1\">990 mbar</td><td class=\"\" colspan=\"1\">16 km</td></tr><tr class=\"\"><th class=\"\" colspan=\"1\">11:58 am</th><td class=\"wt-ic\" colspan=\"1\"><img class=\"mtt\" height=\"40\" src=\"//c.tadst.com/gfx/w/svg/wt-6.svg\" title=\"Partly sunny.\" width=\"40\"/></td><td class=\"\" colspan=\"1\">10 °C</td><td class=\"small\" colspan=\"1\">Partly sunny.</td><td class=\"sep\" colspan=\"1\">9 km/h</td><td class=\"\" colspan=\"1\"><span class=\"comp sa18\" title=\"Wind blowing from 30° North-northeast to South-southwest\">↑</span></td><td class=\"\" colspan=\"1\">100%</td><td class=\"sep\" colspan=\"1\">990 mbar</td><td class=\"\" colspan=\"1\">16 km</td></tr><tr class=\"\"><th class=\"\" colspan=\"1\">12:58 pm</th><td class=\"wt-ic\" colspan=\"1\"><img class=\"mtt\" height=\"40\" src=\"//c.tadst.com/gfx/w/svg/wt-6.svg\" title=\"Mostly cloudy.\" width=\"40\"/></td><td class=\"\" colspan=\"1\">12 °C</td><td class=\"small\" colspan=\"1\">Mostly cloudy.</td><td class=\"sep\" colspan=\"1\">4 km/h</td><td class=\"\" colspan=\"1\"><span class=\"comp sa16\" title=\"Wind blowing from 0° North to South\">↑</span></td><td class=\"\" colspan=\"1\">97%</td><td class=\"sep\" colspan=\"1\">988 mbar</td><td class=\"\" colspan=\"1\">16 km</td></tr><tr class=\"\"><th class=\"\" colspan=\"1\">1:58 pm</th><td class=\"wt-ic\" colspan=\"1\"><img class=\"mtt\" height=\"40\" src=\"//c.tadst.com/gfx/w/svg/wt-18.svg\" title=\"Light rain. Fog.\" width=\"40\"/></td><td class=\"\" colspan=\"1\">14 °C</td><td class=\"small\" colspan=\"1\">Light rain. Fog.</td><td class=\"sep\" colspan=\"1\">9 km/h</td><td class=\"\" colspan=\"1\"><span class=\"comp sa2\" title=\"Wind blowing from 200° South-southwest to North-northeast\">↑</span></td><td class=\"\" colspan=\"1\">84%</td><td class=\"sep\" colspan=\"1\">987 mbar</td><td class=\"\" colspan=\"1\">10 km</td></tr><tr class=\"\"><th class=\"\" colspan=\"1\">2:58 pm</th><td class=\"wt-ic\" colspan=\"1\"><img class=\"mtt\" height=\"40\" src=\"//c.tadst.com/gfx/w/svg/wt-2.svg\" title=\"Scattered clouds.\" width=\"40\"/></td><td class=\"\" colspan=\"1\">13 °C</td><td class=\"small\" colspan=\"1\">Scattered clouds.</td><td class=\"sep\" colspan=\"1\">15 km/h</td><td class=\"\" colspan=\"1\"><span class=\"comp sa4\" title=\"Wind blowing from 230° Southwest to Northeast\">↑</span></td><td class=\"\" colspan=\"1\">88%</td><td class=\"sep\" colspan=\"1\">987 mbar</td><td class=\"\" colspan=\"1\">16 km</td></tr><tr class=\"\"><th class=\"\" colspan=\"1\">3:58 pm</th><td class=\"wt-ic\" colspan=\"1\"><img class=\"mtt\" height=\"40\" src=\"//c.tadst.com/gfx/w/svg/wt-18.svg\" title=\"Light rain. Fog.\" width=\"40\"/></td><td class=\"\" colspan=\"1\">12 °C</td><td class=\"small\" colspan=\"1\">Light rain. Fog.</td><td class=\"sep\" colspan=\"1\">28 km/h</td><td class=\"\" colspan=\"1\"><span class=\"comp sa6\" title=\"Wind blowing from 250° West-southwest to East-northeast\">↑</span></td><td class=\"\" colspan=\"1\">97%</td><td class=\"sep\" colspan=\"1\">988 mbar</td><td class=\"\" colspan=\"1\">10 km</td></tr><tr class=\"\"><th class=\"\" colspan=\"1\">4:58 pm</th><td class=\"wt-ic\" colspan=\"1\"><img class=\"mtt\" height=\"40\" src=\"//c.tadst.com/gfx/w/svg/wt-7.svg\" title=\"Overcast.\" width=\"40\"/></td><td class=\"\" colspan=\"1\">9 °C</td><td class=\"small\" colspan=\"1\">Overcast.</td><td class=\"sep\" colspan=\"1\">33 km/h</td><td class=\"\" colspan=\"1\"><span class=\"comp sa4\" title=\"Wind blowing from 230° Southwest to Northeast\">↑</span></td><td class=\"\" colspan=\"1\">85%</td><td class=\"sep\" colspan=\"1\">989 mbar</td><td class=\"\" colspan=\"1\">16 km</td></tr><tr class=\"\"><th class=\"\" colspan=\"1\">5:58 pm</th><td class=\"wt-ic\" colspan=\"1\"><img class=\"mtt\" height=\"40\" src=\"//c.tadst.com/gfx/w/svg/wt-6.svg\" title=\"Mostly cloudy.\" width=\"40\"/></td><td class=\"\" colspan=\"1\">6 °C</td><td class=\"small\" colspan=\"1\">Mostly cloudy.</td><td class=\"sep\" colspan=\"1\">39 km/h</td><td class=\"\" colspan=\"1\"><span class=\"comp sa4\" title=\"Wind blowing from 220° Southwest to Northeast\">↑</span></td><td class=\"\" colspan=\"1\">81%</td><td class=\"sep\" colspan=\"1\">991 mbar</td><td class=\"\" colspan=\"1\">16 km</td></tr><tr class=\"\"><th class=\"\" colspan=\"1\">6:58 pm</th><td class=\"wt-ic\" colspan=\"1\"><img class=\"mtt\" height=\"40\" src=\"//c.tadst.com/gfx/w/svg/wt-34.svg\" title=\"Light rain. Mostly cloudy.\" width=\"40\"/></td><td class=\"\" colspan=\"1\">5 °C</td><td class=\"small\" colspan=\"1\">Light rain. Mostly cloudy.</td><td class=\"sep\" colspan=\"1\">32 km/h</td><td class=\"\" colspan=\"1\"><span class=\"comp sa4\" title=\"Wind blowing from 220° Southwest to Northeast\">↑</span></td><td class=\"\" colspan=\"1\">88%</td><td class=\"sep\" colspan=\"1\">992 mbar</td><td class=\"\" colspan=\"1\">16 km</td></tr><tr class=\"\"><th class=\"\" colspan=\"1\">7:58 pm</th><td class=\"wt-ic\" colspan=\"1\"><img class=\"mtt\" height=\"40\" src=\"//c.tadst.com/gfx/w/svg/wt-17.svg\" title=\"Overcast.\" width=\"40\"/></td><td class=\"\" colspan=\"1\">4 °C</td><td class=\"small\" colspan=\"1\">Overcast.</td><td class=\"sep\" colspan=\"1\">24 km/h</td><td class=\"\" colspan=\"1\"><span class=\"comp sa4\" title=\"Wind blowing from 220° Southwest to Northeast\">↑</span></td><td class=\"\" colspan=\"1\">92%</td><td class=\"sep\" colspan=\"1\">992 mbar</td><td class=\"\" colspan=\"1\">16 km</td></tr><tr class=\"\"><th class=\"\" colspan=\"1\">8:58 pm</th><td class=\"wt-ic\" colspan=\"1\"><img class=\"mtt\" height=\"40\" src=\"//c.tadst.com/gfx/w/svg/wt-34.svg\" title=\"Light rain. Mostly cloudy.\" width=\"40\"/></td><td class=\"\" colspan=\"1\">4 °C</td><td class=\"small\" colspan=\"1\">Light rain. Mostly cloudy.</td><td class=\"sep\" colspan=\"1\">32 km/h</td><td class=\"\" colspan=\"1\"><span class=\"comp sa4\" title=\"Wind blowing from 220° Southwest to Northeast\">↑</span></td><td class=\"\" colspan=\"1\">93%</td><td class=\"sep\" colspan=\"1\">992 mbar</td><td class=\"\" colspan=\"1\">16 km</td></tr><tr class=\"\"><th class=\"\" colspan=\"1\">9:58 pm</th><td class=\"wt-ic\" colspan=\"1\"><img class=\"mtt\" height=\"40\" src=\"//c.tadst.com/gfx/w/svg/wt-34.svg\" title=\"Light rain. Low clouds.\" width=\"40\"/></td><td class=\"\" colspan=\"1\">2 °C</td><td class=\"small\" colspan=\"1\">Light rain. Low clouds.</td><td class=\"sep\" colspan=\"1\">17 km/h</td><td class=\"\" colspan=\"1\"><span class=\"comp sa10\" title=\"Wind blowing from 290° West-northwest to East-southeast\">↑</span></td><td class=\"\" colspan=\"1\">97%</td><td class=\"sep\" colspan=\"1\">993 mbar</td><td class=\"\" colspan=\"1\">8 km</td></tr><tr class=\"\"><th>10:58 pm</th><td class=\"wt-ic\"><img class=\"mtt\" height=\"40\" src=\"//c.tadst.com/gfx/w/svg/wt-29.svg\" title=\"Light snow. Passing clouds.\" width=\"40\"/></td><td>1 °C</td><td class=\"small\">Light snow. Passing clouds.</td><td class=\"sep\">19 km/h</td><td><span class=\"comp sa10\" title=\"Wind blowing from 290° West-northwest to East-southeast\">↑</span></td><td>97%</td><td class=\"sep\">995 mbar</td><td>16 km</td></tr><tr class=\"\"><th>11:58 pm</th><td class=\"wt-ic\"><img class=\"mtt\" height=\"40\" src=\"//c.tadst.com/gfx/w/svg/wt-29.svg\" title=\"Light snow. Low clouds.\" width=\"40\"/></td><td>1 °C</td><td class=\"small\">Light snow. Low clouds.</td><td class=\"sep\">22 km/h</td><td><span class=\"comp sa10\" title=\"Wind blowing from 290° West-northwest to East-southeast\">↑</span></td><td>98%</td><td class=\"sep\">996 mbar</td><td>16 km</td></tr></tbody><tfoot><tr><td class=\"tc\" colspan=\"9\" style=\"width: 711px;\"><span class=\"img-caption\">Weather by CustomWeather, © 2020</span></td></tr></tfoot></table>"
      ]
     },
     "execution_count": 195,
     "metadata": {},
     "output_type": "execute_result"
    }
   ],
   "source": [
    "table"
   ]
  },
  {
   "cell_type": "code",
   "execution_count": 245,
   "metadata": {},
   "outputs": [],
   "source": [
    "from urllib.request import urlopen\n",
    "from bs4 import BeautifulSoup\n",
    "url = \"https://www.timeanddate.com/weather/australia/ararat/historic?month=9&year=2020\"\n",
    "page = urlopen(url)\n",
    "soup = BeautifulSoup(page, \"html.parser\")\n",
    "\n",
    "Data = []\n",
    "table = soup.find('table', attrs={'id':'wt-his'})\n",
    "for tr in table.find('tbody').find_all('tr'):\n",
    "    dict = {}\n",
    "    dict['time'] = tr.find('th').text.strip()\n",
    "    all_td = tr.find_all('td')\n",
    "    dict['temp'] = all_td[1].text\n",
    "    dict['weather'] = all_td[2].text\n",
    "    dict['wind'] = all_td[3].text\n",
    "    arrow = all_td[4].text\n",
    "\n",
    "\n",
    "    dict['humidity'] = all_td[5].text\n",
    "    dict['barometer'] = all_td[6].text\n",
    "    dict['visibility'] = all_td[7].text\n",
    "\n",
    "    Data.append(dict)"
   ]
  },
  {
   "cell_type": "code",
   "execution_count": 248,
   "metadata": {},
   "outputs": [
    {
     "data": {
      "text/plain": [
       "'12:00 amTue, 1 Sep'"
      ]
     },
     "execution_count": 248,
     "metadata": {},
     "output_type": "execute_result"
    }
   ],
   "source": []
  },
  {
   "cell_type": "code",
   "execution_count": null,
   "metadata": {},
   "outputs": [],
   "source": [
    "import requests, re, typing\n",
    "from bs4 import BeautifulSoup as soup\n",
    "import contextlib\n",
    "def _remove(d:list) -> list:\n",
    "   return list(filter(None, [re.sub('\\xa0', '', b) for b in d]))\n",
    "\n",
    "@contextlib.contextmanager\n",
    "def get_weather_data(url:str, by_url = True) -> typing.Generator[dict, None, None]:\n",
    "   d = soup(requests.get(url).text if by_url else url, 'html.parser')\n",
    "   _table = d.find('table', {'id':'wt-his'})\n",
    "   _data = [[[i.text for i in c.find_all('th')], *[i.text for i in c.find_all('td')]] for c in _table.find_all('tr')]\n",
    "   [h1], [h2], *data, _ = _data\n",
    "   _h2 = _remove(h2)\n",
    "   yield {tuple(_remove(h1)):[dict(zip(_h2, _remove([a, *i]))) for [[a], *i] in data]}\n",
    "\n",
    "\n",
    "with get_weather_data('https://www.timeanddate.com/weather/usa/dayton/historic?month=2&year=2016') as weather:\n",
    " print(weather)"
   ]
  },
  {
   "cell_type": "code",
   "execution_count": null,
   "metadata": {},
   "outputs": [],
   "source": [
    "from selenium import webdriver\n",
    "d = webdriver.Chrome('/Path/to/chromedriver')\n",
    "d.get('https://www.timeanddate.com/weather/usa/dayton/historic?month=2&year=2016')\n",
    "_d = {}\n",
    "for i in d.find_element_by_id('wt-his-select').find_elements_by_tag_name('option'):\n",
    "  i.click()\n",
    "  with get_weather_data(d.page_source, False) as weather:\n",
    "    _d[i.text] = weather"
   ]
  },
  {
   "cell_type": "code",
   "execution_count": null,
   "metadata": {},
   "outputs": [],
   "source": [
    "for a, b in _d.items():\n",
    "  pass #do something with a and b"
   ]
  }
 ],
 "metadata": {
  "kernelspec": {
   "display_name": "Python 3",
   "language": "python",
   "name": "python3"
  },
  "language_info": {
   "codemirror_mode": {
    "name": "ipython",
    "version": 3
   },
   "file_extension": ".py",
   "mimetype": "text/x-python",
   "name": "python",
   "nbconvert_exporter": "python",
   "pygments_lexer": "ipython3",
   "version": "3.6.10"
  }
 },
 "nbformat": 4,
 "nbformat_minor": 4
}
