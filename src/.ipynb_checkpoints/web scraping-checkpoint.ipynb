{
 "cells": [
  {
   "cell_type": "code",
   "execution_count": 434,
   "metadata": {},
   "outputs": [],
   "source": [
    "import requests\n",
    "from bs4 import BeautifulSoup\n",
    "from datetime import datetime\n",
    "import json\n",
    "import re\n",
    "from datetime import datetime\n",
    "import time\n",
    "from selenium import webdriver\n",
    "import calendar \n",
    "import numpy as np"
   ]
  },
  {
   "cell_type": "markdown",
   "metadata": {},
   "source": [
    "### Get list of location from txt"
   ]
  },
  {
   "cell_type": "code",
   "execution_count": 3,
   "metadata": {},
   "outputs": [
    {
     "name": "stdout",
     "output_type": "stream",
     "text": [
      "['https://www.timeanddate.com/weather/australia\\n', '\\n', 'Ararat，\\n', 'Bairnsdale，\\n', 'Ballarat，\\n', 'Bendigo，\\n', 'Echuca，\\n', 'Frankston，\\n', 'Geelong，\\n', 'Horsham，\\n', 'Kyneton，\\n', 'Melbourne，\\n', 'Melton，\\n', 'Mildura，\\n', 'Shepparton，\\n', 'St Arnaud，\\n', 'Traralgon，\\n', 'Warragul，\\n', 'Warrnambool，\\n', 'Wodonga\\n', '\\n', 'url: \\n', 'https://www.timeanddate.com/weather/australia/[location]/historic?month=[mm]&year=[yyyy]\\n', '\\n']\n"
     ]
    }
   ],
   "source": [
    "path = '../assets/list of locations in vic.txt'\n",
    "with open(path, 'r', encoding='utf-8') as f:\n",
    "    content = f.readlines()\n",
    "    print(content)\n",
    "    \n",
    "for "
   ]
  },
  {
   "cell_type": "markdown",
   "metadata": {},
   "source": [
    "### Use selenium to automate the select and click on each date"
   ]
  },
  {
   "cell_type": "code",
   "execution_count": 493,
   "metadata": {},
   "outputs": [],
   "source": [
    "'''\n",
    "Function to get url based on input location, month and year for timeanddate.com\n",
    "input: locaiton (str), month （int), year (int)\n",
    "output: string url\n",
    "'''\n",
    "def get_url(location, month, year):\n",
    "    date = {'location': location, 'month': month, 'year': year}\n",
    "    URL = 'https://www.timeanddate.com/weather/australia/{location}/historic?month={month}&year={year}'.format(**date)\n",
    "    return URL"
   ]
  },
  {
   "cell_type": "code",
   "execution_count": 496,
   "metadata": {},
   "outputs": [
    {
     "data": {
      "text/plain": [
       "'https://www.timeanddate.com/weather/australia/ararat/historic?month=10&year=2018'"
      ]
     },
     "execution_count": 496,
     "metadata": {},
     "output_type": "execute_result"
    }
   ],
   "source": [
    "\n",
    "urkl = get_url('ararat', 10, 2018)"
   ]
  },
  {
   "cell_type": "code",
   "execution_count": null,
   "metadata": {},
   "outputs": [],
   "source": [
    "\n",
    "end = \"window.month={month};window.year={year};\".format(**date)"
   ]
  },
  {
   "cell_type": "code",
   "execution_count": 483,
   "metadata": {},
   "outputs": [],
   "source": [
    "# this requires browser specific driver: https://www.selenium.dev/downloads/\n",
    "d = webdriver.Chrome('./chromedriver_win32/chromedriver.exe')\n",
    "d.get('https://www.timeanddate.com/weather/australia/ararat/historic?month=9&year=2020')"
   ]
  },
  {
   "cell_type": "code",
   "execution_count": 497,
   "metadata": {},
   "outputs": [],
   "source": [
    "'''\n",
    "Function to automate select in website for dynamic chaning tables by the specified id.\n",
    "Function will select each option, and for each option extract the table by the specified id, concat all the tables into one\n",
    "input: instance of selenium.webdriver.chrome.webdriver.WebDriver\n",
    "output: dataframe of all the extracted table\n",
    "'''\n",
    "def get_all_tables(d):\n",
    "    all_d = []\n",
    "    for i in d.find_element_by_id('wt-his-select').find_elements_by_tag_name('option'):\n",
    "        i.click()\n",
    "        time.sleep(3)\n",
    "        df = extract_table(d.page_source, 'wt-his') # extract table\n",
    "        df = fill_in_date(df) # fill in the blank dates rows\n",
    "        frames.append(df) \n",
    "\n",
    "    concated = pd.concat(frames)\n",
    "    return concated"
   ]
  },
  {
   "cell_type": "code",
   "execution_count": 500,
   "metadata": {},
   "outputs": [],
   "source": [
    "'''\n",
    "Function to fill in the empty date rows in date column\n",
    "input: dataframe\n",
    "output: dataframe\n",
    "'''\n",
    "def fill_in_date(df):\n",
    "    df['date'][df['date'] == ''] = np.NaN\n",
    "    df = df.fillna(method='ffill')\n",
    "    return df"
   ]
  },
  {
   "cell_type": "code",
   "execution_count": 501,
   "metadata": {},
   "outputs": [],
   "source": [
    "'''\n",
    "Function to split something like '12:00amSun, 27 Sep' into ['12:00am', '27 Sep']\n",
    "input: date (str)\n",
    "output: list with length of 2\n",
    "'''\n",
    "def split_time_date(date): \n",
    "    day_of_week = ['Mon', 'Tue', 'Wed', 'Thu', 'Fri', 'Sat', 'Sun']\n",
    "    date_split = [date, '']\n",
    "    \n",
    "    for day in day_of_week:\n",
    "        if day in date:\n",
    "            split_on = day + ', '\n",
    "            date_split = date.split(split_on)\n",
    "\n",
    "    return date_split"
   ]
  },
  {
   "cell_type": "code",
   "execution_count": 502,
   "metadata": {},
   "outputs": [],
   "source": [
    "'''\n",
    "Function to take in page source, and extract the table \n",
    "input: page source, and id of table\n",
    "output: dataframe of extracted table\n",
    "'''\n",
    "def extract_table(_d, table_id):\n",
    "    soup = BeautifulSoup(_d)\n",
    "    table = soup.find('table', attrs={'id': table_id})\n",
    "\n",
    "    Data = []\n",
    "    for tr in table.find('tbody').find_all('tr'):\n",
    "        dict = {}\n",
    "        datetime = tr.find('th').text.strip()\n",
    "        split_datetime = split_time_date(datetime)\n",
    "        dict['date'] = split_datetime[1]\n",
    "        dict['time'] = split_datetime[0]\n",
    "        #dict['time'] = tr.find('th').text.strip()\n",
    "        all_td = tr.find_all('td')\n",
    "        dict['temp'] = all_td[1].text\n",
    "        dict['weather'] = all_td[2].text\n",
    "        dict['wind'] = all_td[3].text\n",
    "        dict['arrow'] = all_td[4].text\n",
    "\n",
    "        dict['humidity'] = all_td[5].text\n",
    "        dict['barometer'] = all_td[6].text\n",
    "        dict['visibility'] = all_td[7].text\n",
    "\n",
    "        Data.append(dict)\n",
    "        df = pd.DataFrame(Data)\n",
    "    \n",
    "    return df"
   ]
  },
  {
   "cell_type": "markdown",
   "metadata": {},
   "source": [
    "### Extract \"script\" \n",
    "\n",
    "Not Used!"
   ]
  },
  {
   "cell_type": "code",
   "execution_count": null,
   "metadata": {},
   "outputs": [],
   "source": [
    "URL = 'https://www.timeanddate.com/weather/australia/ararat/historic?month=9&year=2020'\n",
    "page = requests.get(URL)\n",
    "soup = BeautifulSoup(page.content, 'html.parser')"
   ]
  },
  {
   "cell_type": "code",
   "execution_count": 114,
   "metadata": {},
   "outputs": [],
   "source": [
    "allScripts = soup.find_all(\"script\", type=\"text/javascript\")\n",
    "dataScript = (allScripts[1].text).strip('\\n')"
   ]
  },
  {
   "cell_type": "code",
   "execution_count": 120,
   "metadata": {},
   "outputs": [],
   "source": [
    "'''\n",
    "unfortunately this does not work due to changing end bit:\n",
    "    pattern = re.compile(\"var data=\\{(.*?)\\};\")\n",
    "    data = pattern.findall(dataScript)\n",
    "Function to return strip values at beginning and end\n",
    "input: month and year\n",
    "output: begin(constant) and end strip values\n",
    "'''\n",
    "def getStripValues(month, year):\n",
    "    date = {'month': month, 'year': year}\n",
    "    end = \"window.month={month};window.year={year};\".format(**date)\n",
    "    begin = \"var data=\"\n",
    "    return begin, end"
   ]
  },
  {
   "cell_type": "code",
   "execution_count": 121,
   "metadata": {},
   "outputs": [],
   "source": [
    "begin, end = getStripValues(9, 2020)"
   ]
  },
  {
   "cell_type": "code",
   "execution_count": 141,
   "metadata": {},
   "outputs": [],
   "source": [
    "dataString = dataScript.strip(begin).strip(end)\n",
    "dataJson = json.loads(dataString)\n",
    "data = dataJson['detail']"
   ]
  },
  {
   "cell_type": "code",
   "execution_count": 152,
   "metadata": {},
   "outputs": [
    {
     "data": {
      "text/plain": [
       "datetime.datetime(2020, 9, 1, 10, 0)"
      ]
     },
     "execution_count": 152,
     "metadata": {},
     "output_type": "execute_result"
    }
   ],
   "source": [
    "# javascript datetime stamp can be convereted using below\n",
    "datetime.fromtimestamp(1598918400000 / 1000.0)"
   ]
  },
  {
   "cell_type": "code",
   "execution_count": null,
   "metadata": {},
   "outputs": [],
   "source": []
  }
 ],
 "metadata": {
  "kernelspec": {
   "display_name": "Python 3",
   "language": "python",
   "name": "python3"
  },
  "language_info": {
   "codemirror_mode": {
    "name": "ipython",
    "version": 3
   },
   "file_extension": ".py",
   "mimetype": "text/x-python",
   "name": "python",
   "nbconvert_exporter": "python",
   "pygments_lexer": "ipython3",
   "version": "3.6.10"
  }
 },
 "nbformat": 4,
 "nbformat_minor": 4
}
