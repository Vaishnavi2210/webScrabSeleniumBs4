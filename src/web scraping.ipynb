{
 "cells": [
  {
   "cell_type": "markdown",
   "metadata": {},
   "source": [
    "### Library"
   ]
  },
  {
   "cell_type": "code",
   "execution_count": 1,
   "metadata": {},
   "outputs": [],
   "source": [
    "import requests\n",
    "from bs4 import BeautifulSoup\n",
    "from datetime import datetime\n",
    "import json\n",
    "import re\n",
    "from datetime import datetime\n",
    "import time\n",
    "from selenium import webdriver\n",
    "import calendar \n",
    "import numpy as np\n",
    "from selenium import webdriver\n",
    "import pandas as pd"
   ]
  },
  {
   "cell_type": "markdown",
   "metadata": {},
   "source": [
    "### Functions "
   ]
  },
  {
   "cell_type": "code",
   "execution_count": 15,
   "metadata": {},
   "outputs": [],
   "source": [
    "'''\n",
    "Function to get url based on input location, month and year for timeanddate.com\n",
    "input: locaiton (str), month （int), year (int)\n",
    "output: string url\n",
    "'''\n",
    "def get_url(location, month, year):\n",
    "    date = {'location': location, 'month': month, 'year': year}\n",
    "    URL = 'https://www.timeanddate.com/weather/australia/{location}/historic?month={month}&year={year}'.format(**date)\n",
    "    return URL\n",
    "\n",
    "'''\n",
    "Function to automate select in website for dynamic chaning tables by the specified id.\n",
    "Function will select each option, and for each option extract the table by the specified id, concat all the tables into one\n",
    "input: instance of selenium.webdriver.chrome.webdriver.WebDriver\n",
    "output: dataframe of all the extracted table\n",
    "'''\n",
    "def get_all_tables(d, month, year):\n",
    "    frames = []\n",
    "    for i in d.find_element_by_id('wt-his-select').find_elements_by_tag_name('option'):\n",
    "        i.click()\n",
    "        time.sleep(3)\n",
    "        df = extract_table(d.page_source, 'wt-his', month, year) # extract table\n",
    "        df = fill_in_date(df) # fill in the blank dates rows\n",
    "        frames.append(df) \n",
    "\n",
    "    concated = pd.concat(frames)\n",
    "    return concated\n",
    "\n",
    "'''\n",
    "Function to fill in the empty date rows in date column\n",
    "input: dataframe\n",
    "output: dataframe\n",
    "'''\n",
    "def fill_in_date(df):\n",
    "    df['date'][df['date'] == ''] = np.NaN\n",
    "    df = df.fillna(method='ffill')\n",
    "    return df\n",
    "\n",
    "'''\n",
    "Function to split something like '12:00amSun, 27 Sep' into ['12:00am', '27 Sep']\n",
    "input: date (str)\n",
    "output: list with length of 2\n",
    "'''\n",
    "def split_time_date(date): \n",
    "    day_of_week = ['Mon', 'Tue', 'Wed', 'Thu', 'Fri', 'Sat', 'Sun']\n",
    "    date_split = [date, '']\n",
    "    \n",
    "    for day in day_of_week:\n",
    "        if day in date:\n",
    "            split_on = day + ', '\n",
    "            date_split = date.split(split_on)\n",
    "\n",
    "    return date_split\n",
    "\n",
    "'''\n",
    "Function to take in page source, and extract the table \n",
    "input: page source, and id of table\n",
    "output: dataframe of extracted table\n",
    "'''\n",
    "def extract_table(_d, table_id, month, year):\n",
    "    soup = BeautifulSoup(_d)\n",
    "    table = soup.find('table', attrs={'id': table_id})\n",
    "\n",
    "    Data = []\n",
    "    for tr in table.find('tbody').find_all('tr'):\n",
    "        dict = {}\n",
    "        datetime = tr.find('th').text.strip()\n",
    "        split_datetime = split_time_date(datetime)\n",
    "        dict['month'] = month\n",
    "        dict['']\n",
    "        dict['date'] = split_datetime[1]\n",
    "        dict['time'] = split_datetime[0]\n",
    "        #dict['time'] = tr.find('th').text.strip()\n",
    "        all_td = tr.find_all('td')\n",
    "        dict['temp'] = all_td[1].text\n",
    "        dict['weather'] = all_td[2].text\n",
    "        dict['wind'] = all_td[3].text\n",
    "        dict['arrow'] = all_td[4].text\n",
    "\n",
    "        dict['humidity'] = all_td[5].text\n",
    "        dict['barometer'] = all_td[6].text\n",
    "        dict['visibility'] = all_td[7].text\n",
    "        \n",
    "        \n",
    "        Data.append(dict)\n",
    "        df = pd.DataFrame(Data)\n",
    "        \n",
    "    return df"
   ]
  },
  {
   "cell_type": "markdown",
   "metadata": {},
   "source": [
    "### Get list of location from txt"
   ]
  },
  {
   "cell_type": "code",
   "execution_count": 16,
   "metadata": {},
   "outputs": [],
   "source": [
    "path = '../assets/list of locations in vic.txt'\n",
    "with open(path, 'r', encoding='utf-8') as f:\n",
    "    # remove newline character\n",
    "    locations = [x.strip() for x in f.readlines()]\n",
    "\n",
    "location_list = locations[2:-4]"
   ]
  },
  {
   "cell_type": "markdown",
   "metadata": {},
   "source": [
    "### Use selenium to automate the select and click on each date"
   ]
  },
  {
   "cell_type": "code",
   "execution_count": 17,
   "metadata": {},
   "outputs": [
    {
     "name": "stdout",
     "output_type": "stream",
     "text": [
      "https://www.timeanddate.com/weather/australia/ararat/historic?month=1&year=2020\n"
     ]
    },
    {
     "name": "stderr",
     "output_type": "stream",
     "text": [
      "C:\\Users\\Dango\\anaconda3\\lib\\site-packages\\ipykernel_launcher.py:35: SettingWithCopyWarning: \n",
      "A value is trying to be set on a copy of a slice from a DataFrame\n",
      "\n",
      "See the caveats in the documentation: https://pandas.pydata.org/pandas-docs/stable/user_guide/indexing.html#returning-a-view-versus-a-copy\n"
     ]
    },
    {
     "ename": "KeyboardInterrupt",
     "evalue": "",
     "output_type": "error",
     "traceback": [
      "\u001b[1;31m---------------------------------------------------------------------------\u001b[0m",
      "\u001b[1;31mKeyboardInterrupt\u001b[0m                         Traceback (most recent call last)",
      "\u001b[1;32m<ipython-input-17-d5610a101471>\u001b[0m in \u001b[0;36m<module>\u001b[1;34m\u001b[0m\n\u001b[0;32m     19\u001b[0m                 \u001b[0mprint\u001b[0m\u001b[1;33m(\u001b[0m\u001b[0murl\u001b[0m\u001b[1;33m)\u001b[0m\u001b[1;33m\u001b[0m\u001b[1;33m\u001b[0m\u001b[0m\n\u001b[0;32m     20\u001b[0m                 \u001b[0md\u001b[0m\u001b[1;33m.\u001b[0m\u001b[0mget\u001b[0m\u001b[1;33m(\u001b[0m\u001b[0murl\u001b[0m\u001b[1;33m)\u001b[0m\u001b[1;33m\u001b[0m\u001b[1;33m\u001b[0m\u001b[0m\n\u001b[1;32m---> 21\u001b[1;33m                 \u001b[0mmonth_weather_df\u001b[0m \u001b[1;33m=\u001b[0m \u001b[0mget_all_tables\u001b[0m\u001b[1;33m(\u001b[0m\u001b[0md\u001b[0m\u001b[1;33m,\u001b[0m \u001b[0mmonth\u001b[0m\u001b[1;33m)\u001b[0m\u001b[1;33m\u001b[0m\u001b[1;33m\u001b[0m\u001b[0m\n\u001b[0m\u001b[0;32m     22\u001b[0m                 \u001b[0mweather_df_list\u001b[0m\u001b[1;33m.\u001b[0m\u001b[0mappend\u001b[0m\u001b[1;33m(\u001b[0m\u001b[0mmonth_weather_df\u001b[0m\u001b[1;33m)\u001b[0m\u001b[1;33m\u001b[0m\u001b[1;33m\u001b[0m\u001b[0m\n\u001b[0;32m     23\u001b[0m \u001b[1;33m\u001b[0m\u001b[0m\n",
      "\u001b[1;32m<ipython-input-15-caccd908e21b>\u001b[0m in \u001b[0;36mget_all_tables\u001b[1;34m(d, month)\u001b[0m\n\u001b[0;32m     19\u001b[0m     \u001b[1;32mfor\u001b[0m \u001b[0mi\u001b[0m \u001b[1;32min\u001b[0m \u001b[0md\u001b[0m\u001b[1;33m.\u001b[0m\u001b[0mfind_element_by_id\u001b[0m\u001b[1;33m(\u001b[0m\u001b[1;34m'wt-his-select'\u001b[0m\u001b[1;33m)\u001b[0m\u001b[1;33m.\u001b[0m\u001b[0mfind_elements_by_tag_name\u001b[0m\u001b[1;33m(\u001b[0m\u001b[1;34m'option'\u001b[0m\u001b[1;33m)\u001b[0m\u001b[1;33m:\u001b[0m\u001b[1;33m\u001b[0m\u001b[1;33m\u001b[0m\u001b[0m\n\u001b[0;32m     20\u001b[0m         \u001b[0mi\u001b[0m\u001b[1;33m.\u001b[0m\u001b[0mclick\u001b[0m\u001b[1;33m(\u001b[0m\u001b[1;33m)\u001b[0m\u001b[1;33m\u001b[0m\u001b[1;33m\u001b[0m\u001b[0m\n\u001b[1;32m---> 21\u001b[1;33m         \u001b[0mtime\u001b[0m\u001b[1;33m.\u001b[0m\u001b[0msleep\u001b[0m\u001b[1;33m(\u001b[0m\u001b[1;36m3\u001b[0m\u001b[1;33m)\u001b[0m\u001b[1;33m\u001b[0m\u001b[1;33m\u001b[0m\u001b[0m\n\u001b[0m\u001b[0;32m     22\u001b[0m         \u001b[0mdf\u001b[0m \u001b[1;33m=\u001b[0m \u001b[0mextract_table\u001b[0m\u001b[1;33m(\u001b[0m\u001b[0md\u001b[0m\u001b[1;33m.\u001b[0m\u001b[0mpage_source\u001b[0m\u001b[1;33m,\u001b[0m \u001b[1;34m'wt-his'\u001b[0m\u001b[1;33m,\u001b[0m \u001b[0mmonth\u001b[0m\u001b[1;33m)\u001b[0m \u001b[1;31m# extract table\u001b[0m\u001b[1;33m\u001b[0m\u001b[1;33m\u001b[0m\u001b[0m\n\u001b[0;32m     23\u001b[0m         \u001b[0mdf\u001b[0m \u001b[1;33m=\u001b[0m \u001b[0mfill_in_date\u001b[0m\u001b[1;33m(\u001b[0m\u001b[0mdf\u001b[0m\u001b[1;33m)\u001b[0m \u001b[1;31m# fill in the blank dates rows\u001b[0m\u001b[1;33m\u001b[0m\u001b[1;33m\u001b[0m\u001b[0m\n",
      "\u001b[1;31mKeyboardInterrupt\u001b[0m: "
     ]
    }
   ],
   "source": [
    "# this requires browser specific driver: https://www.selenium.dev/downloads/\n",
    "d = webdriver.Chrome('../chromedriver_win32/chromedriver.exe')\n",
    "\n",
    "year_list = [2020, 2019, 2018, 2017]\n",
    "for location in location_list:\n",
    "    location = location.replace('，', '').lower()\n",
    "    weather_df_list = []\n",
    "    for year in year_list:\n",
    "        if year != 2020:\n",
    "            for month in range(1, 12+1):\n",
    "                url = get_url(location, month, year)\n",
    "                print(url)\n",
    "                d.get(url)\n",
    "                month_weather_df = get_all_tables(d, month, year)\n",
    "                weather_df_list.append(month_weather_df)\n",
    "        else:\n",
    "            for month in range(1, 8+1):\n",
    "                url = get_url(location, month, year)\n",
    "                print(url)\n",
    "                d.get(url)\n",
    "                month_weather_df = get_all_tables(d, month, year)\n",
    "                weather_df_list.append(month_weather_df)\n",
    "            \n",
    "            # write to file with location name\n",
    "            df = pd.concat(weather_df_list)\n",
    "            output_name = f\"../assets/data/{location}_weather.xlsx\"\n",
    "            df.to_excel(output_name, index=False)"
   ]
  },
  {
   "cell_type": "markdown",
   "metadata": {},
   "source": [
    "### Extract \"script\" \n",
    "\n",
    "Not Used!"
   ]
  },
  {
   "cell_type": "code",
   "execution_count": null,
   "metadata": {},
   "outputs": [],
   "source": [
    "URL = 'https://www.timeanddate.com/weather/australia/ararat/historic?month=9&year=2020'\n",
    "page = requests.get(URL)\n",
    "soup = BeautifulSoup(page.content, 'html.parser')"
   ]
  },
  {
   "cell_type": "code",
   "execution_count": 114,
   "metadata": {},
   "outputs": [],
   "source": [
    "allScripts = soup.find_all(\"script\", type=\"text/javascript\")\n",
    "dataScript = (allScripts[1].text).strip('\\n')"
   ]
  },
  {
   "cell_type": "code",
   "execution_count": 120,
   "metadata": {},
   "outputs": [],
   "source": [
    "'''\n",
    "unfortunately this does not work due to changing end bit:\n",
    "    pattern = re.compile(\"var data=\\{(.*?)\\};\")\n",
    "    data = pattern.findall(dataScript)\n",
    "Function to return strip values at beginning and end\n",
    "input: month and year\n",
    "output: begin(constant) and end strip values\n",
    "'''\n",
    "def getStripValues(month, year):\n",
    "    date = {'month': month, 'year': year}\n",
    "    end = \"window.month={month};window.year={year};\".format(**date)\n",
    "    begin = \"var data=\"\n",
    "    return begin, end"
   ]
  },
  {
   "cell_type": "code",
   "execution_count": 121,
   "metadata": {},
   "outputs": [],
   "source": [
    "begin, end = getStripValues(9, 2020)"
   ]
  },
  {
   "cell_type": "code",
   "execution_count": 141,
   "metadata": {},
   "outputs": [],
   "source": [
    "dataString = dataScript.strip(begin).strip(end)\n",
    "dataJson = json.loads(dataString)\n",
    "data = dataJson['detail']"
   ]
  },
  {
   "cell_type": "code",
   "execution_count": 152,
   "metadata": {},
   "outputs": [
    {
     "data": {
      "text/plain": [
       "datetime.datetime(2020, 9, 1, 10, 0)"
      ]
     },
     "execution_count": 152,
     "metadata": {},
     "output_type": "execute_result"
    }
   ],
   "source": [
    "# javascript datetime stamp can be convereted using below\n",
    "datetime.fromtimestamp(1598918400000 / 1000.0)"
   ]
  },
  {
   "cell_type": "code",
   "execution_count": null,
   "metadata": {},
   "outputs": [],
   "source": []
  }
 ],
 "metadata": {
  "kernelspec": {
   "display_name": "Python 3",
   "language": "python",
   "name": "python3"
  },
  "language_info": {
   "codemirror_mode": {
    "name": "ipython",
    "version": 3
   },
   "file_extension": ".py",
   "mimetype": "text/x-python",
   "name": "python",
   "nbconvert_exporter": "python",
   "pygments_lexer": "ipython3",
   "version": "3.6.10"
  }
 },
 "nbformat": 4,
 "nbformat_minor": 4
}
